{
 "cells": [
  {
   "cell_type": "markdown",
   "metadata": {},
   "source": [
    "Så, vi har vår givna ciphertext, som uppenbarligen innehåller en massa unicodetecken:"
   ]
  },
  {
   "cell_type": "code",
   "execution_count": 1,
   "metadata": {},
   "outputs": [],
   "source": [
    "given_cipher_text = 'ÚñąĆøĂµÝČċčûđ¼ƁĐ¿ĆĆĖĄĖĊÆƋĖÉċęĐğďÏěĒĦħęħ×'"
   ]
  },
  {
   "cell_type": "markdown",
   "metadata": {},
   "source": [
    "Vi börjar med omvandla strängen till en lista med integers som motsvarar respektive unicodeteckens code point, och printar denna lista för att se om vi ser något mönster:"
   ]
  },
  {
   "cell_type": "code",
   "execution_count": 2,
   "metadata": {},
   "outputs": [
    {
     "name": "stdout",
     "output_type": "stream",
     "text": [
      "[218, 241, 261, 262, 248, 258, 181, 221, 268, 267, 269, 251, 273, 188, 385, 272, 191, 262, 262, 278, 260, 278, 266, 198, 395, 278, 201, 267, 281, 272, 287, 271, 207, 283, 274, 294, 295, 281, 295, 215]\n"
     ]
    }
   ],
   "source": [
    "code_points = [ord(char) for char in given_cipher_text]\n",
    "print(code_points)"
   ]
  },
  {
   "cell_type": "markdown",
   "metadata": {},
   "source": [
    "Inget direkt iögonfallande, annat än att numrena verkar ligga mellan 250 och 300, med några outliers. Man kan även notera att det är relativt ovanligt att ett nummer (och således tecken) förekommer mer än en gång (vilket man hade kunnat förvänta sig av ett t.ex. ett rent caesarskiffer). Intressant. Låt oss plotta numrena och se om vi blir klokare:"
   ]
  },
  {
   "cell_type": "code",
   "execution_count": 3,
   "metadata": {},
   "outputs": [
    {
     "data": {
      "image/png": "[encoded data removed]",
      "text/plain": [
       "<Figure size 432x288 with 1 Axes>"
      ]
     },
     "metadata": {
      "needs_background": "light"
     },
     "output_type": "display_data"
    },
    {
     "name": "stdout",
     "output_type": "stream",
     "text": [
      "[218, 241, 261, 262, 248, 258, 181, 221, 268, 267, 269, 251, 273, 188, 385, 272, 191, 262, 262, 278, 260, 278, 266, 198, 395, 278, 201, 267, 281, 272, 287, 271, 207, 283, 274, 294, 295, 281, 295, 215]\n"
     ]
    }
   ],
   "source": [
    "%matplotlib inline\n",
    "import matplotlib.pyplot as plt\n",
    "\n",
    "def plot(points):\n",
    "    for index, point in enumerate(points):\n",
    "        plt.scatter(index, point, c='black') \n",
    "    plt.show()\n",
    "    print(points)\n",
    "\n",
    "plot(code_points)"
   ]
  },
  {
   "cell_type": "markdown",
   "metadata": {},
   "source": [
    "Sedärja. Intuitionen stämde. Och det verkar som att punkterna trendar uppåt, vilket förklarar varför det är relativt ovanligt att samma tecken förekommer flera gånger. Låt oss subtrahera index-offsetten från varje tecken och plotta igen:"
   ]
  },
  {
   "cell_type": "code",
   "execution_count": 4,
   "metadata": {},
   "outputs": [
    {
     "data": {
      "image/png": "[encoded data removed]",
      "text/plain": [
       "<Figure size 432x288 with 1 Axes>"
      ]
     },
     "metadata": {
      "needs_background": "light"
     },
     "output_type": "display_data"
    },
    {
     "name": "stdout",
     "output_type": "stream",
     "text": [
      "[218, 240, 259, 259, 244, 253, 175, 214, 260, 258, 259, 240, 261, 175, 371, 257, 175, 245, 244, 259, 240, 257, 244, 175, 371, 253, 175, 240, 253, 243, 257, 240, 175, 250, 240, 259, 259, 244, 257, 176]\n"
     ]
    }
   ],
   "source": [
    "corrected_points = [point - index for index, point in enumerate(code_points)]\n",
    "\n",
    "plot(corrected_points)"
   ]
  },
  {
   "cell_type": "markdown",
   "metadata": {},
   "source": [
    "Ja, det där ser rimligare ut. Men det verkar fortfarande vara en konstant offset uppåt (det vill säga i princip ett caesarskiffer). Låt oss anta att de nedre utliggarna, som är jämnt fördelade över strängen, skall vara mellanslagstecken. De har här värdet 175, och mellanslag har code point 32, så låt oss definiera 175 - 32 som offset och shifta hela listan nedåt:"
   ]
  },
  {
   "cell_type": "code",
   "execution_count": 5,
   "metadata": {},
   "outputs": [
    {
     "data": {
      "image/png": "[encoded data removed]",
      "text/plain": [
       "<Figure size 432x288 with 1 Axes>"
      ]
     },
     "metadata": {
      "needs_background": "light"
     },
     "output_type": "display_data"
    },
    {
     "name": "stdout",
     "output_type": "stream",
     "text": [
      "[75, 97, 116, 116, 101, 110, 32, 71, 117, 115, 116, 97, 118, 32, 228, 114, 32, 102, 101, 116, 97, 114, 101, 32, 228, 110, 32, 97, 110, 100, 114, 97, 32, 107, 97, 116, 116, 101, 114, 33]\n"
     ]
    }
   ],
   "source": [
    "offset = 175 - 32\n",
    "shifted_points = [point - offset for point in corrected_points]\n",
    "\n",
    "plot(shifted_points)"
   ]
  },
  {
   "cell_type": "markdown",
   "metadata": {},
   "source": [
    "Ser rimligt ut, majoriteten av tecknen ligger i az-intervallet, första teckenet ligger i AZ-intervallet och de två övre utliggarna skulle kunna vara å, ä eller ö. Låt oss omvandla tillbaka till unicodetecken och printa:"
   ]
  },
  {
   "cell_type": "code",
   "execution_count": 6,
   "metadata": {},
   "outputs": [
    {
     "name": "stdout",
     "output_type": "stream",
     "text": [
      "Katten Gustav är fetare än andra katter!\n"
     ]
    }
   ],
   "source": [
    "chars = [chr(point) for point in shifted_points]\n",
    "\n",
    "print(''.join(chars))"
   ]
  },
  {
   "cell_type": "markdown",
   "metadata": {},
   "source": [
    "Bingo!\n",
    "\n",
    "Avslutningsvis, låt oss definiera funktioner för att kryptera och dekryptera:"
   ]
  },
  {
   "cell_type": "code",
   "execution_count": 7,
   "metadata": {},
   "outputs": [],
   "source": [
    "def encrypt(clear_text, key):\n",
    "    return ''.join([chr(ord(char) + key + index) for index, char in enumerate(clear_text)])\n",
    "\n",
    "def decrypt(cipher_text, key):\n",
    "    return ''.join([chr(ord(char) - key - index) for index, char in enumerate(cipher_text)])\n"
   ]
  },
  {
   "cell_type": "markdown",
   "metadata": {},
   "source": [
    "Och så testar vi dessa:"
   ]
  },
  {
   "cell_type": "code",
   "execution_count": 8,
   "metadata": {},
   "outputs": [
    {
     "name": "stdout",
     "output_type": "stream",
     "text": [
      "ÚñąĆøĂµÝČċčûđ¼ƁĐ¿ĆĆĖĄĖĊÆƋĖÉċęĐğďÏěĒĦħęħ×\n",
      "Katten Gustav är fetare än andra katter!\n"
     ]
    }
   ],
   "source": [
    "key = 143\n",
    "input_clear_text = 'Katten Gustav är fetare än andra katter!'\n",
    "output_cipher_text = encrypt(input_clear_text, key)\n",
    "output_clear_text = decrypt(output_cipher_text, key)\n",
    "\n",
    "print(output_cipher_text)\n",
    "print(output_clear_text)"
   ]
  },
  {
   "cell_type": "markdown",
   "metadata": {},
   "source": [
    "∎"
   ]
  }
 ],
 "metadata": {
  "kernelspec": {
   "display_name": "Python 3",
   "language": "python",
   "name": "python3"
  },
  "language_info": {
   "codemirror_mode": {
    "name": "ipython",
    "version": 3
   },
   "file_extension": ".py",
   "mimetype": "text/x-python",
   "name": "python",
   "nbconvert_exporter": "python",
   "pygments_lexer": "ipython3",
   "version": "3.6.8"
  }
 },
 "nbformat": 4,
 "nbformat_minor": 2
}
